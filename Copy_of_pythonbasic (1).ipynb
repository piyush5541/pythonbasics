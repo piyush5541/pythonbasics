{
  "nbformat": 4,
  "nbformat_minor": 0,
  "metadata": {
    "colab": {
      "provenance": []
    },
    "kernelspec": {
      "name": "python3",
      "display_name": "Python 3"
    },
    "language_info": {
      "name": "python"
    }
  },
  "cells": [
    {
      "cell_type": "code",
      "source": [],
      "metadata": {
        "id": "6LBoeAwpx0MM"
      },
      "execution_count": null,
      "outputs": []
    },
    {
      "cell_type": "markdown",
      "source": [
        "1. What is python, and why is it popular?\n",
        "  - Python is an integrated programming language used for various purposes like making web application,database connection, data manipulation and presentation,etc. It is popular because it easy to learn and it also provides a large number of libraries which the user can use for various operations.\n",
        "\n",
        "2. What is an interpreter in python?\n",
        "  - An interpreter is a program which converts human readable language to machine readable language, it reads the program and execute it line by line.\n",
        "\n",
        "3. What are pre-defined keywords in python?\n",
        "  - Pre-defined keywords in python are reserved words which have a meaning, these keywords are case sensitive and cannot be define as an identifier.\n",
        "\n",
        "4. Can keywords be used as variable names?\n",
        "  - No, keywords cannot be used as a variable name.\n",
        "\n",
        "5. What is mutability in python?\n",
        "  - Mutability in python is the method where we can change the value of the variable even after the execution of code.\n",
        "\n",
        "6. Why are lists mutable, but tuples are immutable?\n",
        "  - Lists are mutable because they are designed for dynamic data  that can be changed, while tuples are immutable to ensure data integrity and performance.\n",
        "\n",
        "7. What is the difference between '==' and 'is' operators in python?\n",
        "  - '==' operators is used to compare to values of the variables, while'is' operator is used to check whether the variable points towards a similar object.\n",
        "\n",
        "8. What are logicial operators in python?\n",
        "  - Logical operators in python works with boolean value,it'll show the result in Boolean i.e, True and False. 'AND','OR','NOT' comes under logicial operators.\n",
        "\n",
        "9. What is type casting in python?\n",
        "  - Type Casting is the process of changing the type of the value inside the variable. EX- TO Change a=2 into string we'll write n=str(a),it'll change the integer 2 to string \"2\".\n",
        "\n",
        "10. What is the difference between implicit and explicit type casting?\n",
        "  - In implicit type casting the machine automatically converts the data type of the value without taking permission from the user EX-a=5 print(type(a)), while in explicit data casting the machine have to take permission from the user to convert the data type. Ex-a=5, n=str(a)\n",
        "\n",
        "11. What is the purpose of conditional statements in python?\n",
        "  - The Conditional Statement control the folw of the program while checking the condition given is true or false.\n",
        "\n",
        "12. How does the elif statement work?\n",
        "  - Elif is a type of condition statement which is used to write multiple conditions in aprogram , elif statement is used after if statement first the program checks the if conditon is true then it'll execute the statement under \"if\" and if the if condition is false then it'll check the elif statement if true it'll execute this statement otherwise it'll execute else statement.\n",
        "\n",
        "13. What id the difference between for and while loops?\n",
        "  - For Loop is used when we know in advance the number of iteration to run, whereas while loop are used when the number of iteration is unknown it keeps on executing the code till its true.\n",
        "\n",
        "14. Describe a scenario where a while loop is more suitable than a for loop?\n",
        "  - While loop is more suitable when we don't know how many times the action is to be executed . EX- Reading input from the user till a specific keyword like \"exit\".\n",
        "\n",
        "\n",
        "\n",
        "  "
      ],
      "metadata": {
        "id": "i_Foxidjx5hJ"
      }
    },
    {
      "cell_type": "code",
      "source": [
        "# 1. write a python program to print \"hello, world!\n",
        "\n",
        "n = \"hello, world!\"\n",
        "print(n)"
      ],
      "metadata": {
        "colab": {
          "base_uri": "https://localhost:8080/"
        },
        "id": "QoDlyXJSOATq",
        "outputId": "e85c72e9-7658-49d6-d3d1-6c3dcc035068"
      },
      "execution_count": null,
      "outputs": [
        {
          "output_type": "stream",
          "name": "stdout",
          "text": [
            "hello, world!\n"
          ]
        }
      ]
    },
    {
      "cell_type": "code",
      "source": [
        "# 2. write a python program to display your name and age\n",
        "\n",
        "n = \"piyush\"\n",
        "a = \"20\"\n",
        "print(n)\n",
        "print(a)"
      ],
      "metadata": {
        "colab": {
          "base_uri": "https://localhost:8080/"
        },
        "id": "l_aFS5vFOkvb",
        "outputId": "ef067393-61ae-49d5-a887-eb48e8f44e59"
      },
      "execution_count": null,
      "outputs": [
        {
          "output_type": "stream",
          "name": "stdout",
          "text": [
            "piyush\n",
            "20\n"
          ]
        }
      ]
    },
    {
      "cell_type": "code",
      "source": [
        "# 3. write code to print all the pre-defined keywords in python using the library\n",
        "\n",
        "import keyword\n",
        "print(keyword.kwlist)"
      ],
      "metadata": {
        "colab": {
          "base_uri": "https://localhost:8080/"
        },
        "id": "5xa-loWLPFDi",
        "outputId": "619b51e1-90a3-4641-f095-6bdaea4a6eec"
      },
      "execution_count": null,
      "outputs": [
        {
          "output_type": "stream",
          "name": "stdout",
          "text": [
            "['False', 'None', 'True', 'and', 'as', 'assert', 'async', 'await', 'break', 'class', 'continue', 'def', 'del', 'elif', 'else', 'except', 'finally', 'for', 'from', 'global', 'if', 'import', 'in', 'is', 'lambda', 'nonlocal', 'not', 'or', 'pass', 'raise', 'return', 'try', 'while', 'with', 'yield']\n"
          ]
        }
      ]
    },
    {
      "cell_type": "code",
      "source": [
        "# 4. write a program that checks if a given word is a python keyword\n",
        "\n",
        "# 4. write a program that checks if a given word is a python keyword\n",
        "\n",
        "import keyword\n",
        "a = (input(\"Enter keyword:\"))\n",
        "if a in keyword.kwlist: # Changed Kwlist to kwlist\n",
        "    print(\"It is a keyword\")\n",
        "else:\n",
        "    print(\"it is not a keyword\")\n"
      ],
      "metadata": {
        "id": "LmEeiXLrPo-3",
        "colab": {
          "base_uri": "https://localhost:8080/"
        },
        "outputId": "59790539-2bbd-4f5d-ac77-c65c5b692d43"
      },
      "execution_count": null,
      "outputs": [
        {
          "output_type": "stream",
          "name": "stdout",
          "text": [
            "Enter keyword:u\n",
            "it is not a keyword\n"
          ]
        }
      ]
    },
    {
      "cell_type": "code",
      "source": [
        " # 5. Create a list and tuple in python , and demonstrate how attempting to change an element works differently for each\n",
        "\n",
        "list = [\"piyush\", 20, \"student\"]\n",
        "tuple = (\"piyush\", 20, \"student\")\n",
        "list[1] = 21\n",
        "print(list)\n",
        "# once tuples are created we cannot change its value, we have to create new tuple\n",
        "print(tuple)"
      ],
      "metadata": {
        "id": "2YkrXTl7z1qB",
        "colab": {
          "base_uri": "https://localhost:8080/"
        },
        "outputId": "ff23b543-4a67-40cf-b409-8261eacf4fce"
      },
      "execution_count": null,
      "outputs": [
        {
          "output_type": "stream",
          "name": "stdout",
          "text": [
            "['piyush', 21, 'student']\n",
            "('piyush', 20, 'student')\n"
          ]
        }
      ]
    },
    {
      "cell_type": "code",
      "source": [
        "# 6. Write a function to demonstrate the behavior of mutable and immutable agruments\n",
        "\n",
        "list_count = [1 , 2 , 3 , 4.5 , (3+5j),  \"ajay\"]\n",
        "list_count[5]\n"
      ],
      "metadata": {
        "colab": {
          "base_uri": "https://localhost:8080/",
          "height": 35
        },
        "id": "n6i525SIkmPL",
        "outputId": "c2c6110b-fe2d-4b0c-a837-5821d585fd75"
      },
      "execution_count": null,
      "outputs": [
        {
          "output_type": "execute_result",
          "data": {
            "text/plain": [
              "'ajay'"
            ],
            "application/vnd.google.colaboratory.intrinsic+json": {
              "type": "string"
            }
          },
          "metadata": {},
          "execution_count": 38
        }
      ]
    },
    {
      "cell_type": "code",
      "source": [
        "list_count[5] = \"bijay\" # mutability\n",
        "list_count"
      ],
      "metadata": {
        "colab": {
          "base_uri": "https://localhost:8080/"
        },
        "id": "LtsyOyZMpLr_",
        "outputId": "97e7e753-a44c-41a4-ee66-5e7c79337255"
      },
      "execution_count": null,
      "outputs": [
        {
          "output_type": "execute_result",
          "data": {
            "text/plain": [
              "[1, 2, 3, 4.5, (3+5j), 'bijay']"
            ]
          },
          "metadata": {},
          "execution_count": 39
        }
      ]
    },
    {
      "cell_type": "code",
      "source": [
        "# immutable\n",
        "b = \"piyush\"\n",
        "b"
      ],
      "metadata": {
        "colab": {
          "base_uri": "https://localhost:8080/",
          "height": 35
        },
        "id": "ZiH1zYkXpkTk",
        "outputId": "cb77d429-a4cc-4652-c26e-8346888a5566"
      },
      "execution_count": null,
      "outputs": [
        {
          "output_type": "execute_result",
          "data": {
            "text/plain": [
              "'piyush'"
            ],
            "application/vnd.google.colaboratory.intrinsic+json": {
              "type": "string"
            }
          },
          "metadata": {},
          "execution_count": 40
        }
      ]
    },
    {
      "cell_type": "code",
      "source": [
        "b[0] = \"i\" # because of immutability, they executed error."
      ],
      "metadata": {
        "colab": {
          "base_uri": "https://localhost:8080/",
          "height": 141
        },
        "id": "CLZk2sSBpvBV",
        "outputId": "ca2fcfd6-14f0-44ed-bc31-d657fbd19da0"
      },
      "execution_count": null,
      "outputs": [
        {
          "output_type": "error",
          "ename": "TypeError",
          "evalue": "'str' object does not support item assignment",
          "traceback": [
            "\u001b[0;31m---------------------------------------------------------------------------\u001b[0m",
            "\u001b[0;31mTypeError\u001b[0m                                 Traceback (most recent call last)",
            "\u001b[0;32m<ipython-input-41-258ec4a435a4>\u001b[0m in \u001b[0;36m<cell line: 0>\u001b[0;34m()\u001b[0m\n\u001b[0;32m----> 1\u001b[0;31m \u001b[0mb\u001b[0m\u001b[0;34m[\u001b[0m\u001b[0;36m0\u001b[0m\u001b[0;34m]\u001b[0m \u001b[0;34m=\u001b[0m \u001b[0;34m\"i\"\u001b[0m\u001b[0;34m\u001b[0m\u001b[0;34m\u001b[0m\u001b[0m\n\u001b[0m",
            "\u001b[0;31mTypeError\u001b[0m: 'str' object does not support item assignment"
          ]
        }
      ]
    },
    {
      "cell_type": "code",
      "source": [
        "# 7. Write a program that performs basic arithmetic operation on two user-input numbers\n",
        "\n",
        "a = 5\n",
        "b = 1\n",
        "print(a+b)"
      ],
      "metadata": {
        "colab": {
          "base_uri": "https://localhost:8080/"
        },
        "id": "s8749J3eqbTV",
        "outputId": "464462b8-c363-4656-f524-c4f84d3097e3"
      },
      "execution_count": null,
      "outputs": [
        {
          "output_type": "stream",
          "name": "stdout",
          "text": [
            "6\n"
          ]
        }
      ]
    },
    {
      "cell_type": "code",
      "source": [
        "# 8. Write a program to demonstrate the use of logical operators\n",
        "\n",
        "a = 5\n",
        "b = 4\n",
        "if (a==7)&(b==5):\n",
        "  print(\"number are equal to 5\")\n",
        "else:\n",
        "  print(\"number are not equal to 5\")"
      ],
      "metadata": {
        "colab": {
          "base_uri": "https://localhost:8080/"
        },
        "id": "Di7uYODYqyW2",
        "outputId": "9c559995-51ed-49b5-bb6b-40c21cf85e3c"
      },
      "execution_count": null,
      "outputs": [
        {
          "output_type": "stream",
          "name": "stdout",
          "text": [
            "number are not equal to 5\n"
          ]
        }
      ]
    },
    {
      "cell_type": "code",
      "source": [
        "# 9. Write a python program to convert user input from string to integer, float, and boolean types\n",
        "\n",
        "a = 8\n",
        "print(int(a))\n",
        "print(float(a))\n",
        "print(bool(a))"
      ],
      "metadata": {
        "colab": {
          "base_uri": "https://localhost:8080/"
        },
        "id": "bcvG_HF5rwY9",
        "outputId": "2b874f74-c275-49bb-fe0c-69bb89270773"
      },
      "execution_count": null,
      "outputs": [
        {
          "output_type": "stream",
          "name": "stdout",
          "text": [
            "8\n",
            "8.0\n",
            "True\n"
          ]
        }
      ]
    },
    {
      "cell_type": "code",
      "source": [
        "# 10. Write code to demonstrate type casting with list elements\n",
        "\n",
        "a = \"2\"\n",
        "b = 3\n",
        "a + b\n",
        "print(a + b) # give error(can only concatenate str(not\"int) to str\n"
      ],
      "metadata": {
        "colab": {
          "base_uri": "https://localhost:8080/",
          "height": 211
        },
        "id": "lYd9Au3qsYj-",
        "outputId": "15eae573-baae-4a05-e052-d8e90db2ddc9"
      },
      "execution_count": null,
      "outputs": [
        {
          "output_type": "error",
          "ename": "TypeError",
          "evalue": "can only concatenate str (not \"int\") to str",
          "traceback": [
            "\u001b[0;31m---------------------------------------------------------------------------\u001b[0m",
            "\u001b[0;31mTypeError\u001b[0m                                 Traceback (most recent call last)",
            "\u001b[0;32m<ipython-input-47-4d233520f562>\u001b[0m in \u001b[0;36m<cell line: 0>\u001b[0;34m()\u001b[0m\n\u001b[1;32m      3\u001b[0m \u001b[0ma\u001b[0m \u001b[0;34m=\u001b[0m \u001b[0;34m\"2\"\u001b[0m\u001b[0;34m\u001b[0m\u001b[0;34m\u001b[0m\u001b[0m\n\u001b[1;32m      4\u001b[0m \u001b[0mb\u001b[0m \u001b[0;34m=\u001b[0m \u001b[0;36m3\u001b[0m\u001b[0;34m\u001b[0m\u001b[0;34m\u001b[0m\u001b[0m\n\u001b[0;32m----> 5\u001b[0;31m \u001b[0ma\u001b[0m \u001b[0;34m+\u001b[0m \u001b[0mb\u001b[0m\u001b[0;34m\u001b[0m\u001b[0;34m\u001b[0m\u001b[0m\n\u001b[0m\u001b[1;32m      6\u001b[0m \u001b[0mprint\u001b[0m\u001b[0;34m(\u001b[0m\u001b[0ma\u001b[0m \u001b[0;34m+\u001b[0m \u001b[0mb\u001b[0m\u001b[0;34m)\u001b[0m \u001b[0;31m# give error(can only concatenate str(not\"int) to str\u001b[0m\u001b[0;34m\u001b[0m\u001b[0;34m\u001b[0m\u001b[0m\n\u001b[1;32m      7\u001b[0m \u001b[0mtype\u001b[0m\u001b[0;34m(\u001b[0m\u001b[0ma\u001b[0m\u001b[0;34m)\u001b[0m\u001b[0;34m\u001b[0m\u001b[0;34m\u001b[0m\u001b[0m\n",
            "\u001b[0;31mTypeError\u001b[0m: can only concatenate str (not \"int\") to str"
          ]
        }
      ]
    },
    {
      "cell_type": "code",
      "source": [
        "type(a)"
      ],
      "metadata": {
        "colab": {
          "base_uri": "https://localhost:8080/"
        },
        "id": "OpZJj0BTuH3h",
        "outputId": "53626418-d88d-4250-963d-cf6e4ad33703"
      },
      "execution_count": null,
      "outputs": [
        {
          "output_type": "execute_result",
          "data": {
            "text/plain": [
              "str"
            ]
          },
          "metadata": {},
          "execution_count": 48
        }
      ]
    },
    {
      "cell_type": "code",
      "source": [
        "a = \"2\"\n",
        "b = 3\n",
        "int(a)+b"
      ],
      "metadata": {
        "colab": {
          "base_uri": "https://localhost:8080/"
        },
        "id": "pbrgB6dVuNeM",
        "outputId": "20116672-bdfc-4585-9e87-7540bf06e2f7"
      },
      "execution_count": null,
      "outputs": [
        {
          "output_type": "execute_result",
          "data": {
            "text/plain": [
              "5"
            ]
          },
          "metadata": {},
          "execution_count": 49
        }
      ]
    },
    {
      "cell_type": "code",
      "source": [
        "# 11. Write a program that checks if a number is positive , negative, or zero\n",
        "\n",
        "a = 1\n",
        "num = int(a)\n",
        "if num > 0:\n",
        "   print(\"number is positive\")\n",
        "elif num < 0:\n",
        "   print(\"number is negative\")\n",
        "else:\n",
        "   print(\"number is zero\")"
      ],
      "metadata": {
        "colab": {
          "base_uri": "https://localhost:8080/"
        },
        "id": "HBxWhK59ueGr",
        "outputId": "2161a9d8-f13d-4c72-8d94-cf38efdbb5a9"
      },
      "execution_count": null,
      "outputs": [
        {
          "output_type": "stream",
          "name": "stdout",
          "text": [
            "number is positive\n"
          ]
        }
      ]
    },
    {
      "cell_type": "code",
      "source": [
        "# 12. Write a for loop to print numbers from 1 to 10\n",
        "\n",
        "for i in range (10):\n",
        "  print(i , end = \"  \")"
      ],
      "metadata": {
        "colab": {
          "base_uri": "https://localhost:8080/"
        },
        "id": "5OAUtTexvv74",
        "outputId": "e52a61ee-73a8-4dc4-ea95-09867cd20257"
      },
      "execution_count": null,
      "outputs": [
        {
          "output_type": "stream",
          "name": "stdout",
          "text": [
            "0  1  2  3  4  5  6  7  8  9  "
          ]
        }
      ]
    },
    {
      "cell_type": "code",
      "source": [
        "# 13. Write a python  program to find the sum of all even numbers between 1 and 50\n",
        "\n",
        "sum_even = 0\n",
        "for i in range(2, 51,2):\n",
        "  sum_even += i\n",
        "print(\"sum of even numbers between 1 and 50:\", sum_even)\n",
        "\n"
      ],
      "metadata": {
        "colab": {
          "base_uri": "https://localhost:8080/"
        },
        "id": "7ilA02Cvwjsz",
        "outputId": "7cd65683-5d78-439d-dd76-8a4b5ef8cffe"
      },
      "execution_count": null,
      "outputs": [
        {
          "output_type": "stream",
          "name": "stdout",
          "text": [
            "sum of even numbers between 1 and 50: 650\n"
          ]
        }
      ]
    },
    {
      "cell_type": "code",
      "source": [
        "# 14. Write a program to reverse a string using a while loop.\n",
        "\n",
        "text = \"hello world\"[::-1]\n",
        "print(text)\n",
        "\n",
        "\n",
        "\n"
      ],
      "metadata": {
        "id": "eow7HJ4_yQW-",
        "colab": {
          "base_uri": "https://localhost:8080/"
        },
        "outputId": "052ecbd5-cd5a-41c1-ca4c-f822a880ad98"
      },
      "execution_count": null,
      "outputs": [
        {
          "output_type": "stream",
          "name": "stdout",
          "text": [
            "dlrow olleh\n"
          ]
        }
      ]
    },
    {
      "cell_type": "code",
      "source": [
        "# 15. Write a python program to calcute the factorial of a number provided by the user using while loop\n",
        "\n",
        "n = int(input(\"Enter a Number: \"))\n",
        "i = 1\n",
        "fact = 1\n",
        "while i <= n:\n",
        "  fact = fact * i\n",
        "  i = i + 1\n",
        "  print (\"Factorial is\", fact)"
      ],
      "metadata": {
        "colab": {
          "base_uri": "https://localhost:8080/"
        },
        "id": "38xdzcIiLkHz",
        "outputId": "de9c73b2-431b-446a-944d-bdb6329d4d9f"
      },
      "execution_count": null,
      "outputs": [
        {
          "output_type": "stream",
          "name": "stdout",
          "text": [
            "Enter a Number: 7\n",
            "Factorial is 1\n",
            "Factorial is 2\n",
            "Factorial is 6\n",
            "Factorial is 24\n",
            "Factorial is 120\n",
            "Factorial is 720\n",
            "Factorial is 5040\n"
          ]
        }
      ]
    },
    {
      "cell_type": "code",
      "source": [],
      "metadata": {
        "id": "BMnJyCSBMfl4"
      },
      "execution_count": null,
      "outputs": []
    }
  ]
}